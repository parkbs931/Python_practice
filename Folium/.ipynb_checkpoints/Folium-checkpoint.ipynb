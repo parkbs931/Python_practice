{
 "cells": [
  {
   "cell_type": "code",
   "execution_count": 1,
   "id": "207495ed",
   "metadata": {},
   "outputs": [],
   "source": [
    "import folium\n",
    "\n",
    "seoul_map=folium.Map(lacation=[37.55,126.98],zoom_start=12)\n",
    "\n",
    "seoul_map.save('./seoul.html')"
   ]
  },
  {
   "cell_type": "code",
   "execution_count": 2,
   "id": "99159d5e",
   "metadata": {},
   "outputs": [],
   "source": [
    "import folium\n",
    "\n",
    "seoul_map2=folium.Map(lacation=[37.55,126.98],tiles='Stamen Terrain',zoom_start=12)\n",
    "seoul_map3=folium.Map(lacation=[37.55,126.98],tiles='Stamen Toner',zoom_start=12)\n",
    "\n",
    "seoul_map2.save('./seoul2.html')\n",
    "seoul_map3.save('./seoul3.html')"
   ]
  },
  {
   "cell_type": "code",
   "execution_count": 3,
   "id": "ddfa5459",
   "metadata": {},
   "outputs": [],
   "source": [
    "import pandas as pd\n",
    "import folium\n",
    "\n",
    "df=pd.read_excel('./서울지역 대학교 위치.xlsx')\n",
    "\n",
    "seoul_map=folium.Map(lacation=[37.55,126.98],tiles='Stamen Terrain',zoom_start=12)\n",
    "\n",
    "for name,lat,lng in zip(df.index,df.위도,df.경도):\n",
    "    folium.Marker([lat,lng],popup=name).add_to(seoul_map)\n",
    "\n",
    "seoul_map.save('./seoul_colleges.html')"
   ]
  },
  {
   "cell_type": "code",
   "execution_count": 4,
   "id": "f87d93a5",
   "metadata": {},
   "outputs": [],
   "source": [
    "import pandas as pd\n",
    "import folium\n",
    "\n",
    "df=pd.read_excel('./서울지역 대학교 위치.xlsx')\n",
    "\n",
    "seoul_map=folium.Map(lacation=[37.55,126.98],tiles='Stamen Terrain',zoom_start=12)\n",
    "\n",
    "for name,lat,lng in zip(df.index,df.위도,df.경도):\n",
    "    folium.Marker([lat,lng],radius=10,color='brown',fill=True,fill_color='coral',fill_opacity=0.7,popup=name).add_to(seoul_map)\n",
    "\n",
    "seoul_map.save('./seoul_colleges2.html')"
   ]
  },
  {
   "cell_type": "code",
   "execution_count": 5,
   "id": "44c47bd1",
   "metadata": {},
   "outputs": [],
   "source": [
    "import pandas as pd\n",
    "import folium\n",
    "import json\n",
    "\n",
    "file_path='./경기도인구데이터.xlsx'\n",
    "df=pd.read_excel(file_path,index_col='구분')\n",
    "df.columns=df.columns.map(str)\n",
    "\n",
    "geo_path='./경기도행정구역경계.json'\n",
    "try:\n",
    "    geo_data=json.load(open(geo_path,encoding='utf-8'))\n",
    "except:\n",
    "    geo_data=json.load(open(geo_path,encoding='utf-8-sig'))\n",
    "\n",
    "g_map=folium.Map(location=[37.5502,126.982],tiles='Stamen Terrain',zoom_start=9)\n",
    "    \n",
    "year='2007'\n",
    "\n",
    "folium.Choropleth(geo_data=geo_data,data=df[year],columns=[df.index,df[year]],fill_color='YlOrRd',fill_opacity=0.7,line_opacity=0.3,threshold_scale=[10000,100000,300000,500000,700000],key_on='feature.properties.name',).add_to(g_map)\n",
    "\n",
    "g_map.save('./gyonggi_population_'+year+'.html')"
   ]
  }
 ],
 "metadata": {
  "kernelspec": {
   "display_name": "Python 3 (ipykernel)",
   "language": "python",
   "name": "python3"
  },
  "language_info": {
   "codemirror_mode": {
    "name": "ipython",
    "version": 3
   },
   "file_extension": ".py",
   "mimetype": "text/x-python",
   "name": "python",
   "nbconvert_exporter": "python",
   "pygments_lexer": "ipython3",
   "version": "3.9.7"
  }
 },
 "nbformat": 4,
 "nbformat_minor": 5
}
